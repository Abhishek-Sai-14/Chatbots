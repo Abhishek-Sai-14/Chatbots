{
 "cells": [
  {
   "cell_type": "code",
   "execution_count": 3,
   "id": "bada7cc8",
   "metadata": {},
   "outputs": [
    {
     "name": "stdout",
     "output_type": "stream",
     "text": [
      "186 documents\n",
      "29 classes ['Ananya_Eco', 'Banjara_Hills', 'Dream_Valley', 'J_Valley', 'Kondapur', 'Kukatpally', 'Lahari', 'Novotel', 'Park_Hyatt', 'Pragathi', 'Radisson_blu', 'Taj_Krishna', 'Taj_banjara', 'Uppal', 'Vishika', 'Willow_Spring', 'about', 'bye', 'greeting', 'guide', 'help', 'hotels', 'lemon_tea', 'name', 'places', 'red_fox', 'sapthagiri', 'stay', 'thanks']\n",
      "133 unique lemmatized words [\"'s\", '.', 'a', 'accommodation', 'ananya', 'any', 'anyone', 'are', 'at', 'attraction', 'available', 'banjara', 'best', 'blu', 'busy', 'by', 'bye', 'byee', 'byeee', 'call', 'can', 'contact', 'could', 'do', 'dream', 'eco', 'facility', 'famous', 'few', 'find', 'for', 'fox', 'get', 'give', 'good', 'goodbye', 'guide', 'hand', 'hay', 'hello', 'help', 'helpful', 'hey', 'hi', 'hill', 'hotel', 'hour', 'house', 'how', 'hyatt', 'hyderabad', 'i', 'ideal', 'in', 'information', 'interesting', 'is', 'j', 'kondapur', 'krishna', 'kukatpally', 'lahari', 'landmark', 'later', 'lemon', 'list', 'location', 'lodging', 'made', 'me', 'name', 'near', 'nearby', 'need', 'night', 'novotel', 'now', 'number', 'of', 'one', 'open', 'option', 'park', 'phone', 'place', 'please', 'pragathi', 'praghati', 'provide', 'radisson', 'red', 'resort', 'right', 'room', 'rush', 'sapthagiri', 'seat', 'see', 'should', 'some', 'special', 'spot', 'spring', 'stay', 'support', 'taj', 'tea', 'telephone', 'thank', 'thanks', 'that', 'the', 'there', 'timing', 'to', 'top', 'tourist', 'travel', 'unique', 'uppal', 'valley', 'vishika', 'visit', 'we', 'well-known', 'what', 'whats', 'where', 'which', 'who', 'willow', 'you', 'your']\n",
      "Training data created\n"
     ]
    },
    {
     "name": "stderr",
     "output_type": "stream",
     "text": [
      "C:\\Users\\Abhi Manohar\\OneDrive\\Desktop\\chatbot-python-project-data-codes\\train_chatbot.py:73: VisibleDeprecationWarning: Creating an ndarray from ragged nested sequences (which is a list-or-tuple of lists-or-tuples-or ndarrays with different lengths or shapes) is deprecated. If you meant to do this, you must specify 'dtype=object' when creating the ndarray.\n",
      "  training = np.array(training)\n"
     ]
    },
    {
     "name": "stdout",
     "output_type": "stream",
     "text": [
      "Epoch 1/200\n",
      "38/38 [==============================] - 1s 3ms/step - loss: 3.3624 - accuracy: 0.0323\n",
      "Epoch 2/200\n",
      "38/38 [==============================] - 0s 3ms/step - loss: 3.2626 - accuracy: 0.0753\n",
      "Epoch 3/200\n",
      "38/38 [==============================] - 0s 3ms/step - loss: 3.1322 - accuracy: 0.1237\n",
      "Epoch 4/200\n",
      "38/38 [==============================] - 0s 3ms/step - loss: 2.7677 - accuracy: 0.2957\n",
      "Epoch 5/200\n",
      "38/38 [==============================] - 0s 3ms/step - loss: 2.3321 - accuracy: 0.3602\n",
      "Epoch 6/200\n",
      "38/38 [==============================] - 0s 3ms/step - loss: 1.8304 - accuracy: 0.4355\n",
      "Epoch 7/200\n",
      "38/38 [==============================] - 0s 3ms/step - loss: 1.4486 - accuracy: 0.5753\n",
      "Epoch 8/200\n",
      "38/38 [==============================] - 0s 3ms/step - loss: 1.1287 - accuracy: 0.6667\n",
      "Epoch 9/200\n",
      "38/38 [==============================] - 0s 3ms/step - loss: 0.7404 - accuracy: 0.7957\n",
      "Epoch 10/200\n",
      "38/38 [==============================] - 0s 3ms/step - loss: 0.7398 - accuracy: 0.7903\n",
      "Epoch 11/200\n",
      "38/38 [==============================] - 0s 3ms/step - loss: 0.4856 - accuracy: 0.8710\n",
      "Epoch 12/200\n",
      "38/38 [==============================] - 0s 3ms/step - loss: 0.3968 - accuracy: 0.8925\n",
      "Epoch 13/200\n",
      "38/38 [==============================] - 0s 3ms/step - loss: 0.3554 - accuracy: 0.8978\n",
      "Epoch 14/200\n",
      "38/38 [==============================] - 0s 3ms/step - loss: 0.3101 - accuracy: 0.9086\n",
      "Epoch 15/200\n",
      "38/38 [==============================] - 0s 3ms/step - loss: 0.2669 - accuracy: 0.8925\n",
      "Epoch 16/200\n",
      "38/38 [==============================] - 0s 3ms/step - loss: 0.2059 - accuracy: 0.9516\n",
      "Epoch 17/200\n",
      "38/38 [==============================] - 0s 3ms/step - loss: 0.1244 - accuracy: 0.9892\n",
      "Epoch 18/200\n",
      "38/38 [==============================] - 0s 4ms/step - loss: 0.1129 - accuracy: 0.9785\n",
      "Epoch 19/200\n",
      "38/38 [==============================] - 0s 3ms/step - loss: 0.0903 - accuracy: 0.9677\n",
      "Epoch 20/200\n",
      "38/38 [==============================] - 0s 4ms/step - loss: 0.0860 - accuracy: 0.9839\n",
      "Epoch 21/200\n",
      "38/38 [==============================] - 0s 3ms/step - loss: 0.0916 - accuracy: 0.9839\n",
      "Epoch 22/200\n",
      "38/38 [==============================] - 0s 3ms/step - loss: 0.1173 - accuracy: 0.9570\n",
      "Epoch 23/200\n",
      "38/38 [==============================] - 0s 3ms/step - loss: 0.0766 - accuracy: 0.9839\n",
      "Epoch 24/200\n",
      "38/38 [==============================] - 0s 3ms/step - loss: 0.0713 - accuracy: 0.9785\n",
      "Epoch 25/200\n",
      "38/38 [==============================] - 0s 3ms/step - loss: 0.0974 - accuracy: 0.9785\n",
      "Epoch 26/200\n",
      "38/38 [==============================] - 0s 3ms/step - loss: 0.0559 - accuracy: 0.9892\n",
      "Epoch 27/200\n",
      "38/38 [==============================] - 0s 3ms/step - loss: 0.0814 - accuracy: 0.9785\n",
      "Epoch 28/200\n",
      "38/38 [==============================] - 0s 3ms/step - loss: 0.1011 - accuracy: 0.9677\n",
      "Epoch 29/200\n",
      "38/38 [==============================] - 0s 3ms/step - loss: 0.0708 - accuracy: 0.9839\n",
      "Epoch 30/200\n",
      "38/38 [==============================] - 0s 3ms/step - loss: 0.0407 - accuracy: 0.9946\n",
      "Epoch 31/200\n",
      "38/38 [==============================] - 0s 3ms/step - loss: 0.0489 - accuracy: 0.9946\n",
      "Epoch 32/200\n",
      "38/38 [==============================] - 0s 3ms/step - loss: 0.0575 - accuracy: 0.9785\n",
      "Epoch 33/200\n",
      "38/38 [==============================] - 0s 3ms/step - loss: 0.0563 - accuracy: 0.9892\n",
      "Epoch 34/200\n",
      "38/38 [==============================] - 0s 3ms/step - loss: 0.0728 - accuracy: 0.9892\n",
      "Epoch 35/200\n",
      "38/38 [==============================] - 0s 3ms/step - loss: 0.0591 - accuracy: 0.9892\n",
      "Epoch 36/200\n",
      "38/38 [==============================] - 0s 3ms/step - loss: 0.0286 - accuracy: 1.0000\n",
      "Epoch 37/200\n",
      "38/38 [==============================] - 0s 3ms/step - loss: 0.0550 - accuracy: 0.9785\n",
      "Epoch 38/200\n",
      "38/38 [==============================] - 0s 3ms/step - loss: 0.0371 - accuracy: 1.0000\n",
      "Epoch 39/200\n",
      "38/38 [==============================] - 0s 3ms/step - loss: 0.0215 - accuracy: 0.9946\n",
      "Epoch 40/200\n",
      "38/38 [==============================] - 0s 3ms/step - loss: 0.0284 - accuracy: 0.9946\n",
      "Epoch 41/200\n",
      "38/38 [==============================] - 0s 3ms/step - loss: 0.0184 - accuracy: 1.0000\n",
      "Epoch 42/200\n",
      "38/38 [==============================] - 0s 3ms/step - loss: 0.0164 - accuracy: 1.0000\n",
      "Epoch 43/200\n",
      "38/38 [==============================] - 0s 3ms/step - loss: 0.0092 - accuracy: 1.0000\n",
      "Epoch 44/200\n",
      "38/38 [==============================] - 0s 3ms/step - loss: 0.0356 - accuracy: 0.9946\n",
      "Epoch 45/200\n",
      "38/38 [==============================] - 0s 3ms/step - loss: 0.0243 - accuracy: 1.0000\n",
      "Epoch 46/200\n",
      "38/38 [==============================] - 0s 3ms/step - loss: 0.0217 - accuracy: 1.0000\n",
      "Epoch 47/200\n",
      "38/38 [==============================] - 0s 3ms/step - loss: 0.0129 - accuracy: 1.0000\n",
      "Epoch 48/200\n",
      "38/38 [==============================] - 0s 3ms/step - loss: 0.0156 - accuracy: 1.0000\n",
      "Epoch 49/200\n",
      "38/38 [==============================] - 0s 4ms/step - loss: 0.0306 - accuracy: 0.9892\n",
      "Epoch 50/200\n",
      "38/38 [==============================] - 0s 3ms/step - loss: 0.0276 - accuracy: 0.9946\n",
      "Epoch 51/200\n",
      "38/38 [==============================] - 0s 3ms/step - loss: 0.0114 - accuracy: 1.0000\n",
      "Epoch 52/200\n",
      "38/38 [==============================] - 0s 3ms/step - loss: 0.0103 - accuracy: 1.0000\n",
      "Epoch 53/200\n",
      "38/38 [==============================] - 0s 3ms/step - loss: 0.0313 - accuracy: 0.9946\n",
      "Epoch 54/200\n",
      "38/38 [==============================] - 0s 3ms/step - loss: 0.0172 - accuracy: 0.9946\n",
      "Epoch 55/200\n",
      "38/38 [==============================] - 0s 3ms/step - loss: 0.0171 - accuracy: 0.9946\n",
      "Epoch 56/200\n",
      "38/38 [==============================] - 0s 3ms/step - loss: 0.0116 - accuracy: 1.0000\n",
      "Epoch 57/200\n",
      "38/38 [==============================] - 0s 3ms/step - loss: 0.0093 - accuracy: 1.0000\n",
      "Epoch 58/200\n",
      "38/38 [==============================] - 0s 3ms/step - loss: 0.0133 - accuracy: 1.0000\n",
      "Epoch 59/200\n",
      "38/38 [==============================] - 0s 3ms/step - loss: 0.0439 - accuracy: 0.9892\n",
      "Epoch 60/200\n",
      "38/38 [==============================] - 0s 3ms/step - loss: 0.0529 - accuracy: 0.9731\n",
      "Epoch 61/200\n",
      "38/38 [==============================] - 0s 3ms/step - loss: 0.0124 - accuracy: 1.0000\n",
      "Epoch 62/200\n",
      "38/38 [==============================] - 0s 3ms/step - loss: 0.0186 - accuracy: 1.0000\n",
      "Epoch 63/200\n",
      "38/38 [==============================] - 0s 3ms/step - loss: 0.0239 - accuracy: 0.9946\n",
      "Epoch 64/200\n",
      "38/38 [==============================] - 0s 3ms/step - loss: 0.0112 - accuracy: 1.0000\n",
      "Epoch 65/200\n",
      "38/38 [==============================] - 0s 3ms/step - loss: 0.0093 - accuracy: 1.0000\n",
      "Epoch 66/200\n",
      "38/38 [==============================] - 0s 3ms/step - loss: 0.0083 - accuracy: 1.0000\n",
      "Epoch 67/200\n",
      "38/38 [==============================] - 0s 3ms/step - loss: 0.0149 - accuracy: 0.9946\n",
      "Epoch 68/200\n",
      "38/38 [==============================] - 0s 3ms/step - loss: 0.0126 - accuracy: 1.0000\n",
      "Epoch 69/200\n",
      "38/38 [==============================] - 0s 3ms/step - loss: 0.0067 - accuracy: 1.0000\n",
      "Epoch 70/200\n",
      "38/38 [==============================] - 0s 3ms/step - loss: 0.0085 - accuracy: 1.0000\n",
      "Epoch 71/200\n",
      "38/38 [==============================] - 0s 3ms/step - loss: 0.0122 - accuracy: 1.0000\n",
      "Epoch 72/200\n",
      "38/38 [==============================] - 0s 3ms/step - loss: 0.0194 - accuracy: 0.9946\n",
      "Epoch 73/200\n",
      "38/38 [==============================] - 0s 3ms/step - loss: 0.0104 - accuracy: 1.0000\n",
      "Epoch 74/200\n",
      "38/38 [==============================] - 0s 3ms/step - loss: 0.0083 - accuracy: 0.9946\n",
      "Epoch 75/200\n",
      "38/38 [==============================] - 0s 3ms/step - loss: 0.0115 - accuracy: 1.0000\n",
      "Epoch 76/200\n",
      "38/38 [==============================] - 0s 3ms/step - loss: 0.0632 - accuracy: 0.9839\n",
      "Epoch 77/200\n",
      "38/38 [==============================] - 0s 3ms/step - loss: 0.0285 - accuracy: 0.9839\n",
      "Epoch 78/200\n",
      "38/38 [==============================] - 0s 3ms/step - loss: 0.0233 - accuracy: 0.9946\n",
      "Epoch 79/200\n",
      "38/38 [==============================] - 0s 3ms/step - loss: 0.0209 - accuracy: 0.9946\n",
      "Epoch 80/200\n",
      "38/38 [==============================] - 0s 3ms/step - loss: 0.0086 - accuracy: 1.0000\n",
      "Epoch 81/200\n",
      "38/38 [==============================] - 0s 3ms/step - loss: 0.0059 - accuracy: 1.0000\n",
      "Epoch 82/200\n",
      "38/38 [==============================] - 0s 3ms/step - loss: 0.0042 - accuracy: 1.0000\n",
      "Epoch 83/200\n"
     ]
    },
    {
     "name": "stdout",
     "output_type": "stream",
     "text": [
      "38/38 [==============================] - 0s 3ms/step - loss: 0.0041 - accuracy: 1.0000\n",
      "Epoch 84/200\n",
      "38/38 [==============================] - 0s 3ms/step - loss: 0.0184 - accuracy: 0.9946\n",
      "Epoch 85/200\n",
      "38/38 [==============================] - 0s 3ms/step - loss: 0.0052 - accuracy: 1.0000\n",
      "Epoch 86/200\n",
      "38/38 [==============================] - 0s 3ms/step - loss: 0.0107 - accuracy: 0.9946\n",
      "Epoch 87/200\n",
      "38/38 [==============================] - 0s 3ms/step - loss: 0.0129 - accuracy: 1.0000\n",
      "Epoch 88/200\n",
      "38/38 [==============================] - 0s 3ms/step - loss: 0.0135 - accuracy: 0.9946\n",
      "Epoch 89/200\n",
      "38/38 [==============================] - 0s 3ms/step - loss: 0.0038 - accuracy: 1.0000\n",
      "Epoch 90/200\n",
      "38/38 [==============================] - 0s 3ms/step - loss: 0.0044 - accuracy: 1.0000\n",
      "Epoch 91/200\n",
      "38/38 [==============================] - 0s 3ms/step - loss: 0.0038 - accuracy: 1.0000\n",
      "Epoch 92/200\n",
      "38/38 [==============================] - 0s 3ms/step - loss: 0.0023 - accuracy: 1.0000\n",
      "Epoch 93/200\n",
      "38/38 [==============================] - 0s 3ms/step - loss: 0.0041 - accuracy: 1.0000\n",
      "Epoch 94/200\n",
      "38/38 [==============================] - 0s 3ms/step - loss: 0.0036 - accuracy: 1.0000\n",
      "Epoch 95/200\n",
      "38/38 [==============================] - 0s 3ms/step - loss: 0.0020 - accuracy: 1.0000\n",
      "Epoch 96/200\n",
      "38/38 [==============================] - 0s 3ms/step - loss: 0.0039 - accuracy: 1.0000\n",
      "Epoch 97/200\n",
      "38/38 [==============================] - 0s 3ms/step - loss: 0.0026 - accuracy: 1.0000\n",
      "Epoch 98/200\n",
      "38/38 [==============================] - 0s 3ms/step - loss: 0.0048 - accuracy: 1.0000\n",
      "Epoch 99/200\n",
      "38/38 [==============================] - 0s 3ms/step - loss: 0.0052 - accuracy: 1.0000\n",
      "Epoch 100/200\n",
      "38/38 [==============================] - 0s 4ms/step - loss: 0.0040 - accuracy: 1.0000\n",
      "Epoch 101/200\n",
      "38/38 [==============================] - 0s 4ms/step - loss: 0.0113 - accuracy: 1.0000\n",
      "Epoch 102/200\n",
      "38/38 [==============================] - 0s 3ms/step - loss: 0.0099 - accuracy: 1.0000\n",
      "Epoch 103/200\n",
      "38/38 [==============================] - 0s 3ms/step - loss: 0.0101 - accuracy: 0.9946\n",
      "Epoch 104/200\n",
      "38/38 [==============================] - 0s 3ms/step - loss: 0.0120 - accuracy: 0.9946\n",
      "Epoch 105/200\n",
      "38/38 [==============================] - 0s 3ms/step - loss: 0.0029 - accuracy: 1.0000\n",
      "Epoch 106/200\n",
      "38/38 [==============================] - 0s 3ms/step - loss: 0.0271 - accuracy: 0.9892\n",
      "Epoch 107/200\n",
      "38/38 [==============================] - 0s 3ms/step - loss: 0.0131 - accuracy: 0.9946\n",
      "Epoch 108/200\n",
      "38/38 [==============================] - 0s 3ms/step - loss: 0.0030 - accuracy: 1.0000\n",
      "Epoch 109/200\n",
      "38/38 [==============================] - 0s 3ms/step - loss: 0.0024 - accuracy: 1.0000\n",
      "Epoch 110/200\n",
      "38/38 [==============================] - 0s 3ms/step - loss: 0.0041 - accuracy: 1.0000\n",
      "Epoch 111/200\n",
      "38/38 [==============================] - 0s 3ms/step - loss: 0.0034 - accuracy: 1.0000\n",
      "Epoch 112/200\n",
      "38/38 [==============================] - 0s 3ms/step - loss: 0.0020 - accuracy: 1.0000\n",
      "Epoch 113/200\n",
      "38/38 [==============================] - 0s 3ms/step - loss: 0.0069 - accuracy: 1.0000\n",
      "Epoch 114/200\n",
      "38/38 [==============================] - 0s 3ms/step - loss: 0.0061 - accuracy: 1.0000\n",
      "Epoch 115/200\n",
      "38/38 [==============================] - 0s 3ms/step - loss: 0.0117 - accuracy: 0.9946\n",
      "Epoch 116/200\n",
      "38/38 [==============================] - 0s 3ms/step - loss: 0.0030 - accuracy: 1.0000\n",
      "Epoch 117/200\n",
      "38/38 [==============================] - 0s 3ms/step - loss: 0.0028 - accuracy: 1.0000\n",
      "Epoch 118/200\n",
      "38/38 [==============================] - 0s 3ms/step - loss: 0.0098 - accuracy: 0.9946\n",
      "Epoch 119/200\n",
      "38/38 [==============================] - 0s 3ms/step - loss: 0.0021 - accuracy: 1.0000\n",
      "Epoch 120/200\n",
      "38/38 [==============================] - 0s 3ms/step - loss: 0.0021 - accuracy: 1.0000\n",
      "Epoch 121/200\n",
      "38/38 [==============================] - 0s 3ms/step - loss: 0.0109 - accuracy: 0.9946\n",
      "Epoch 122/200\n",
      "38/38 [==============================] - 0s 3ms/step - loss: 0.0229 - accuracy: 0.9946\n",
      "Epoch 123/200\n",
      "38/38 [==============================] - 0s 4ms/step - loss: 0.0156 - accuracy: 0.9946\n",
      "Epoch 124/200\n",
      "38/38 [==============================] - 0s 3ms/step - loss: 0.0027 - accuracy: 1.0000\n",
      "Epoch 125/200\n",
      "38/38 [==============================] - 0s 3ms/step - loss: 0.0077 - accuracy: 1.0000\n",
      "Epoch 126/200\n",
      "38/38 [==============================] - 0s 3ms/step - loss: 0.0079 - accuracy: 1.0000\n",
      "Epoch 127/200\n",
      "38/38 [==============================] - 0s 3ms/step - loss: 0.0038 - accuracy: 1.0000\n",
      "Epoch 128/200\n",
      "38/38 [==============================] - 0s 3ms/step - loss: 0.0027 - accuracy: 1.0000\n",
      "Epoch 129/200\n",
      "38/38 [==============================] - 0s 3ms/step - loss: 0.0082 - accuracy: 1.0000\n",
      "Epoch 130/200\n",
      "38/38 [==============================] - 0s 3ms/step - loss: 0.0039 - accuracy: 1.0000\n",
      "Epoch 131/200\n",
      "38/38 [==============================] - 0s 3ms/step - loss: 0.0104 - accuracy: 0.9946\n",
      "Epoch 132/200\n",
      "38/38 [==============================] - 0s 3ms/step - loss: 0.0026 - accuracy: 1.0000\n",
      "Epoch 133/200\n",
      "38/38 [==============================] - 0s 3ms/step - loss: 0.0061 - accuracy: 1.0000\n",
      "Epoch 134/200\n",
      "38/38 [==============================] - 0s 3ms/step - loss: 0.0086 - accuracy: 0.9946\n",
      "Epoch 135/200\n",
      "38/38 [==============================] - 0s 3ms/step - loss: 0.0021 - accuracy: 1.0000\n",
      "Epoch 136/200\n",
      "38/38 [==============================] - 0s 3ms/step - loss: 0.0026 - accuracy: 1.0000\n",
      "Epoch 137/200\n",
      "38/38 [==============================] - 0s 3ms/step - loss: 0.0026 - accuracy: 1.0000\n",
      "Epoch 138/200\n",
      "38/38 [==============================] - 0s 3ms/step - loss: 0.0013 - accuracy: 1.0000\n",
      "Epoch 139/200\n",
      "38/38 [==============================] - 0s 3ms/step - loss: 0.0041 - accuracy: 1.0000\n",
      "Epoch 140/200\n",
      "38/38 [==============================] - 0s 3ms/step - loss: 0.0023 - accuracy: 1.0000\n",
      "Epoch 141/200\n",
      "38/38 [==============================] - 0s 3ms/step - loss: 9.7592e-04 - accuracy: 1.0000\n",
      "Epoch 142/200\n",
      "38/38 [==============================] - 0s 3ms/step - loss: 0.0021 - accuracy: 1.0000\n",
      "Epoch 143/200\n",
      "38/38 [==============================] - 0s 3ms/step - loss: 0.0036 - accuracy: 1.0000\n",
      "Epoch 144/200\n",
      "38/38 [==============================] - 0s 3ms/step - loss: 0.0024 - accuracy: 1.0000\n",
      "Epoch 145/200\n",
      "38/38 [==============================] - 0s 3ms/step - loss: 0.0019 - accuracy: 1.0000\n",
      "Epoch 146/200\n",
      "38/38 [==============================] - 0s 3ms/step - loss: 0.0044 - accuracy: 1.0000\n",
      "Epoch 147/200\n",
      "38/38 [==============================] - 0s 3ms/step - loss: 0.0035 - accuracy: 1.0000\n",
      "Epoch 148/200\n",
      "38/38 [==============================] - 0s 3ms/step - loss: 0.0011 - accuracy: 1.0000\n",
      "Epoch 149/200\n",
      "38/38 [==============================] - 0s 3ms/step - loss: 0.0108 - accuracy: 0.9946\n",
      "Epoch 150/200\n",
      "38/38 [==============================] - 0s 3ms/step - loss: 0.0019 - accuracy: 1.0000\n",
      "Epoch 151/200\n",
      "38/38 [==============================] - 0s 3ms/step - loss: 0.0103 - accuracy: 0.9946\n",
      "Epoch 152/200\n",
      "38/38 [==============================] - 0s 3ms/step - loss: 0.0283 - accuracy: 0.9946\n",
      "Epoch 153/200\n",
      "38/38 [==============================] - 0s 3ms/step - loss: 0.0159 - accuracy: 0.9946\n",
      "Epoch 154/200\n",
      "38/38 [==============================] - 0s 3ms/step - loss: 0.0153 - accuracy: 0.9946\n",
      "Epoch 155/200\n",
      "38/38 [==============================] - 0s 3ms/step - loss: 0.0148 - accuracy: 0.9946\n",
      "Epoch 156/200\n",
      "38/38 [==============================] - 0s 4ms/step - loss: 0.0018 - accuracy: 1.0000\n",
      "Epoch 157/200\n",
      "38/38 [==============================] - 0s 3ms/step - loss: 0.0049 - accuracy: 1.0000\n",
      "Epoch 158/200\n",
      "38/38 [==============================] - 0s 3ms/step - loss: 0.0015 - accuracy: 1.0000\n",
      "Epoch 159/200\n",
      "38/38 [==============================] - 0s 3ms/step - loss: 0.0095 - accuracy: 0.9946\n",
      "Epoch 160/200\n",
      "38/38 [==============================] - 0s 3ms/step - loss: 0.0153 - accuracy: 0.9946\n",
      "Epoch 161/200\n",
      "38/38 [==============================] - 0s 3ms/step - loss: 0.0056 - accuracy: 1.0000\n",
      "Epoch 162/200\n",
      "38/38 [==============================] - 0s 3ms/step - loss: 0.0045 - accuracy: 1.0000\n",
      "Epoch 163/200\n",
      "38/38 [==============================] - 0s 3ms/step - loss: 0.0051 - accuracy: 1.0000\n",
      "Epoch 164/200\n",
      "38/38 [==============================] - 0s 3ms/step - loss: 0.0074 - accuracy: 0.9946\n",
      "Epoch 165/200\n",
      "38/38 [==============================] - 0s 3ms/step - loss: 0.0130 - accuracy: 0.9946\n",
      "Epoch 166/200\n",
      "38/38 [==============================] - 0s 3ms/step - loss: 0.0038 - accuracy: 1.0000\n",
      "Epoch 167/200\n",
      "38/38 [==============================] - 0s 3ms/step - loss: 0.0016 - accuracy: 1.0000\n",
      "Epoch 168/200\n",
      "38/38 [==============================] - 0s 3ms/step - loss: 0.0018 - accuracy: 1.0000\n",
      "Epoch 169/200\n",
      "38/38 [==============================] - 0s 3ms/step - loss: 0.0029 - accuracy: 1.0000\n",
      "Epoch 170/200\n",
      "38/38 [==============================] - 0s 3ms/step - loss: 0.0023 - accuracy: 1.0000\n",
      "Epoch 171/200\n",
      "38/38 [==============================] - 0s 3ms/step - loss: 0.0016 - accuracy: 1.0000\n",
      "Epoch 172/200\n",
      "38/38 [==============================] - 0s 3ms/step - loss: 0.0028 - accuracy: 1.0000\n",
      "Epoch 173/200\n",
      "38/38 [==============================] - 0s 3ms/step - loss: 7.0262e-04 - accuracy: 1.0000\n",
      "Epoch 174/200\n",
      "38/38 [==============================] - 0s 3ms/step - loss: 0.0071 - accuracy: 0.9946\n",
      "Epoch 175/200\n",
      "38/38 [==============================] - 0s 3ms/step - loss: 0.0011 - accuracy: 1.0000\n",
      "Epoch 176/200\n",
      "38/38 [==============================] - 0s 3ms/step - loss: 0.0060 - accuracy: 1.0000\n",
      "Epoch 177/200\n",
      "38/38 [==============================] - 0s 3ms/step - loss: 0.0047 - accuracy: 1.0000\n",
      "Epoch 178/200\n",
      "38/38 [==============================] - 0s 3ms/step - loss: 0.0016 - accuracy: 1.0000\n",
      "Epoch 179/200\n",
      "38/38 [==============================] - 0s 3ms/step - loss: 0.0345 - accuracy: 0.9946\n",
      "Epoch 180/200\n",
      "38/38 [==============================] - 0s 3ms/step - loss: 0.0056 - accuracy: 1.0000\n",
      "Epoch 181/200\n",
      "38/38 [==============================] - 0s 3ms/step - loss: 0.0024 - accuracy: 1.0000\n",
      "Epoch 182/200\n",
      "38/38 [==============================] - 0s 3ms/step - loss: 0.0024 - accuracy: 1.0000\n",
      "Epoch 183/200\n",
      "38/38 [==============================] - 0s 3ms/step - loss: 0.0027 - accuracy: 1.0000\n",
      "Epoch 184/200\n",
      "38/38 [==============================] - 0s 3ms/step - loss: 0.0031 - accuracy: 1.0000\n",
      "Epoch 185/200\n",
      "38/38 [==============================] - 0s 3ms/step - loss: 0.0015 - accuracy: 1.0000\n",
      "Epoch 186/200\n",
      "38/38 [==============================] - 0s 3ms/step - loss: 0.0020 - accuracy: 1.0000\n",
      "Epoch 187/200\n",
      "38/38 [==============================] - 0s 3ms/step - loss: 0.0045 - accuracy: 1.0000\n",
      "Epoch 188/200\n",
      "38/38 [==============================] - 0s 3ms/step - loss: 0.0016 - accuracy: 1.0000\n",
      "Epoch 189/200\n",
      "38/38 [==============================] - 0s 3ms/step - loss: 0.0037 - accuracy: 1.0000\n",
      "Epoch 190/200\n",
      "38/38 [==============================] - 0s 3ms/step - loss: 0.0022 - accuracy: 1.0000\n",
      "Epoch 191/200\n",
      "38/38 [==============================] - 0s 3ms/step - loss: 0.0013 - accuracy: 1.0000\n",
      "Epoch 192/200\n",
      "38/38 [==============================] - 0s 3ms/step - loss: 5.8737e-04 - accuracy: 1.0000\n",
      "Epoch 193/200\n",
      "38/38 [==============================] - 0s 3ms/step - loss: 0.0019 - accuracy: 1.0000\n",
      "Epoch 194/200\n",
      "38/38 [==============================] - 0s 3ms/step - loss: 0.0015 - accuracy: 1.0000\n",
      "Epoch 195/200\n",
      "38/38 [==============================] - 0s 3ms/step - loss: 0.0032 - accuracy: 1.0000\n",
      "Epoch 196/200\n",
      "38/38 [==============================] - 0s 3ms/step - loss: 0.0072 - accuracy: 0.9946\n",
      "Epoch 197/200\n",
      "38/38 [==============================] - 0s 3ms/step - loss: 0.0021 - accuracy: 1.0000\n",
      "Epoch 198/200\n",
      "38/38 [==============================] - 0s 3ms/step - loss: 0.0044 - accuracy: 1.0000\n",
      "Epoch 199/200\n",
      "38/38 [==============================] - 0s 3ms/step - loss: 0.0021 - accuracy: 1.0000\n",
      "Epoch 200/200\n",
      "38/38 [==============================] - 0s 3ms/step - loss: 0.0123 - accuracy: 0.9946\n",
      "model created\n"
     ]
    }
   ],
   "source": [
    "%run train_chatbot.py"
   ]
  },
  {
   "cell_type": "code",
   "execution_count": null,
   "id": "568ab24e",
   "metadata": {},
   "outputs": [
    {
     "name": "stdout",
     "output_type": "stream",
     "text": [
      " * Serving Flask app \"chatgui\" (lazy loading)\n",
      " * Environment: production\n",
      "\u001b[31m   WARNING: This is a development server. Do not use it in a production deployment.\u001b[0m\n",
      "\u001b[2m   Use a production WSGI server instead.\u001b[0m\n",
      " * Debug mode: off\n"
     ]
    },
    {
     "name": "stderr",
     "output_type": "stream",
     "text": [
      " * Running on http://127.0.0.1:5000/ (Press CTRL+C to quit)\n",
      "127.0.0.1 - - [17/Feb/2024 16:21:01] \"GET / HTTP/1.1\" 200 -\n",
      "127.0.0.1 - - [17/Feb/2024 16:21:01] \"GET /india.jpg HTTP/1.1\" 404 -\n",
      "127.0.0.1 - - [17/Feb/2024 16:21:03] \"POST / HTTP/1.1\" 302 -\n",
      "127.0.0.1 - - [17/Feb/2024 16:21:03] \"GET /userpage1 HTTP/1.1\" 200 -\n",
      "127.0.0.1 - - [17/Feb/2024 16:21:04] \"POST /userpage1 HTTP/1.1\" 302 -\n",
      "127.0.0.1 - - [17/Feb/2024 16:21:04] \"GET /userpage2 HTTP/1.1\" 200 -\n",
      "127.0.0.1 - - [17/Feb/2024 16:21:04] \"GET /hyd_back.jpg HTTP/1.1\" 404 -\n"
     ]
    },
    {
     "name": "stdout",
     "output_type": "stream",
     "text": [
      "దగ్గర్లో మంచి హోటల్ సిం ఉన్నాయి. There is a good hotel sim nearby.\n",
      "1/1 [==============================] - 0s 220ms/step\n"
     ]
    },
    {
     "name": "stderr",
     "output_type": "stream",
     "text": [
      "127.0.0.1 - - [17/Feb/2024 16:21:25] \"GET /get?msg=దగ్గర్లో%20మంచి%20హోటల్%20సిం%20ఉన్నాయి. HTTP/1.1\" 200 -\n"
     ]
    },
    {
     "name": "stdout",
     "output_type": "stream",
     "text": [
      "దగ్గర్లో మంచి హోటేల్స్ ఏమున్నాయి? What are the best hotels nearby?\n",
      "1/1 [==============================] - 0s 39ms/step\n"
     ]
    },
    {
     "name": "stderr",
     "output_type": "stream",
     "text": [
      "127.0.0.1 - - [17/Feb/2024 16:21:41] \"GET /get?msg=దగ్గర్లో%20మంచి%20హోటేల్స్%20ఏమున్నాయి%3F HTTP/1.1\" 200 -\n",
      "127.0.0.1 - - [17/Feb/2024 16:21:47] \"GET /userpage2 HTTP/1.1\" 200 -\n",
      "127.0.0.1 - - [17/Feb/2024 16:21:47] \"GET /hyd_back.jpg HTTP/1.1\" 404 -\n"
     ]
    },
    {
     "name": "stdout",
     "output_type": "stream",
     "text": [
      "దగ్గర్లో మంచి హోటేల్స్ ఏమున్నాయి? What are the best hotels nearby?\n",
      "1/1 [==============================] - 0s 40ms/step\n"
     ]
    },
    {
     "name": "stderr",
     "output_type": "stream",
     "text": [
      "127.0.0.1 - - [17/Feb/2024 16:21:54] \"GET /get?msg=దగ్గర్లో%20మంచి%20హోటేల్స్%20ఏమున్నాయి%3F HTTP/1.1\" 200 -\n"
     ]
    },
    {
     "name": "stdout",
     "output_type": "stream",
     "text": [
      "కొండాపూర్‌లో ఎం రిసార్ట్స్ ఉన్నాయి. Kondapurhas M resorts.\n",
      "1/1 [==============================] - 0s 37ms/step\n"
     ]
    },
    {
     "name": "stderr",
     "output_type": "stream",
     "text": [
      "127.0.0.1 - - [17/Feb/2024 16:22:33] \"GET /get?msg=కొండాపూర్‌లో%20ఎం%20రిసార్ట్స్%20ఉన్నాయి. HTTP/1.1\" 200 -\n"
     ]
    },
    {
     "name": "stdout",
     "output_type": "stream",
     "text": [
      "ఏం రిసార్ట్స్ మంచిగా కొండాపూర్‌లో ఉన్నాయి. What resorts are good in Kondapur.\n",
      "1/1 [==============================] - 0s 35ms/step\n"
     ]
    },
    {
     "name": "stderr",
     "output_type": "stream",
     "text": [
      "127.0.0.1 - - [17/Feb/2024 16:23:00] \"GET /get?msg=ఏం%20రిసార్ట్స్%20మంచిగా%20కొండాపూర్‌లో%20ఉన్నాయి. HTTP/1.1\" 200 -\n",
      "127.0.0.1 - - [17/Feb/2024 16:23:28] \"GET /userpage2 HTTP/1.1\" 200 -\n",
      "127.0.0.1 - - [17/Feb/2024 16:23:29] \"GET /hyd_back.jpg HTTP/1.1\" 404 -\n"
     ]
    },
    {
     "name": "stdout",
     "output_type": "stream",
     "text": [
      "దగ్గర్లో మంచి హోటేల్స్ ఏమున్నాయి? What are the best hotels nearby?\n",
      "1/1 [==============================] - 0s 37ms/step\n"
     ]
    },
    {
     "name": "stderr",
     "output_type": "stream",
     "text": [
      "127.0.0.1 - - [17/Feb/2024 16:23:38] \"GET /get?msg=దగ్గర్లో%20మంచి%20హోటేల్స్%20ఏమున్నాయి%3F HTTP/1.1\" 200 -\n"
     ]
    },
    {
     "name": "stdout",
     "output_type": "stream",
     "text": [
      "మంచి రిసర్చ్. కొండాపూర్ లో ఏమున్నాయి? Good research. What's in Kondapur?\n",
      "1/1 [==============================] - 0s 37ms/step\n"
     ]
    },
    {
     "name": "stderr",
     "output_type": "stream",
     "text": [
      "127.0.0.1 - - [17/Feb/2024 16:23:53] \"GET /get?msg=మంచి%20రిసర్చ్.%20కొండాపూర్%20లో%20ఏమున్నాయి%3F HTTP/1.1\" 200 -\n"
     ]
    },
    {
     "name": "stdout",
     "output_type": "stream",
     "text": [
      "ట్రీ మల్లీశ్వరి ఎలా ఉంది? How is Tree Malleswari?\n",
      "1/1 [==============================] - 0s 41ms/step\n"
     ]
    },
    {
     "name": "stderr",
     "output_type": "stream",
     "text": [
      "127.0.0.1 - - [17/Feb/2024 16:24:18] \"GET /get?msg=ట్రీ%20మల్లీశ్వరి%20ఎలా%20ఉంది%3F HTTP/1.1\" 200 -\n"
     ]
    },
    {
     "name": "stdout",
     "output_type": "stream",
     "text": [
      "విశాఖ రిసర్చ్ ఎలా ఉంది? How is Visakhapatnam Research?\n",
      "1/1 [==============================] - 0s 40ms/step\n"
     ]
    },
    {
     "name": "stderr",
     "output_type": "stream",
     "text": [
      "127.0.0.1 - - [17/Feb/2024 16:24:30] \"GET /get?msg=విశాఖ%20రిసర్చ్%20ఎలా%20ఉంది%3F HTTP/1.1\" 200 -\n"
     ]
    },
    {
     "name": "stdout",
     "output_type": "stream",
     "text": [
      "డ్రీమ్ వ్యాలీ రిసార్ట్ ఎలా ఉంది? How is the Dream Valley Resort?\n",
      "1/1 [==============================] - 0s 53ms/step\n"
     ]
    },
    {
     "name": "stderr",
     "output_type": "stream",
     "text": [
      "127.0.0.1 - - [17/Feb/2024 16:24:49] \"GET /get?msg=డ్రీమ్%20వ్యాలీ%20రిసార్ట్%20ఎలా%20ఉంది%3F HTTP/1.1\" 200 -\n",
      "127.0.0.1 - - [17/Feb/2024 16:25:39] \"GET /userpage2 HTTP/1.1\" 200 -\n",
      "127.0.0.1 - - [17/Feb/2024 16:25:39] \"GET /hyd_back.jpg HTTP/1.1\" 404 -\n"
     ]
    },
    {
     "name": "stdout",
     "output_type": "stream",
     "text": [
      "దగ్గర్లో మంచి హోటేల్స్ ఏమున్నాయి? What are the best hotels nearby?\n",
      "1/1 [==============================] - 0s 39ms/step\n"
     ]
    },
    {
     "name": "stderr",
     "output_type": "stream",
     "text": [
      "127.0.0.1 - - [17/Feb/2024 16:25:53] \"GET /get?msg=దగ్గర్లో%20మంచి%20హోటేల్స్%20ఏమున్నాయి%3F HTTP/1.1\" 200 -\n"
     ]
    },
    {
     "name": "stdout",
     "output_type": "stream",
     "text": [
      "కొండాపూర్ లో మంచి షాట్ ఏమున్నాయి? What is a good shot in Kondapur?\n",
      "1/1 [==============================] - 0s 40ms/step\n"
     ]
    },
    {
     "name": "stderr",
     "output_type": "stream",
     "text": [
      "127.0.0.1 - - [17/Feb/2024 16:26:32] \"GET /get?msg=కొండాపూర్%20లో%20మంచి%20షాట్%20ఏమున్నాయి%3F HTTP/1.1\" 200 -\n"
     ]
    },
    {
     "name": "stdout",
     "output_type": "stream",
     "text": [
      "టూరిస్ట్ గైడ్ ఫోన్ నెంబర్ ఉందా? Do you have a tourist guide phone number?\n",
      "1/1 [==============================] - 0s 39ms/step\n"
     ]
    },
    {
     "name": "stderr",
     "output_type": "stream",
     "text": [
      "127.0.0.1 - - [17/Feb/2024 16:27:31] \"GET /get?msg=టూరిస్ట్%20గైడ్%20ఫోన్%20నెంబర్%20ఉందా%3F HTTP/1.1\" 200 -\n",
      "127.0.0.1 - - [17/Feb/2024 16:27:53] \"GET /userpage2 HTTP/1.1\" 200 -\n",
      "127.0.0.1 - - [17/Feb/2024 16:27:53] \"GET /hyd_back.jpg HTTP/1.1\" 404 -\n"
     ]
    },
    {
     "name": "stdout",
     "output_type": "stream",
     "text": [
      "దగ్గర్లో మంచి హోటేల్స్ ఏమున్నాయి? What are the best hotels nearby?\n",
      "1/1 [==============================] - 0s 40ms/step\n"
     ]
    },
    {
     "name": "stderr",
     "output_type": "stream",
     "text": [
      "127.0.0.1 - - [17/Feb/2024 16:27:59] \"GET /get?msg=దగ్గర్లో%20మంచి%20హోటేల్స్%20ఏమున్నాయి%3F HTTP/1.1\" 200 -\n"
     ]
    },
    {
     "name": "stdout",
     "output_type": "stream",
     "text": [
      "కొండాపూర్ లో మంచి రిసార్ట్ ఏమున్నాయి? What is a good resort in Kondapur?\n",
      "1/1 [==============================] - 0s 38ms/step\n"
     ]
    },
    {
     "name": "stderr",
     "output_type": "stream",
     "text": [
      "127.0.0.1 - - [17/Feb/2024 16:28:11] \"GET /get?msg=కొండాపూర్%20లో%20మంచి%20రిసార్ట్%20ఏమున్నాయి%3F HTTP/1.1\" 200 -\n"
     ]
    },
    {
     "name": "stdout",
     "output_type": "stream",
     "text": [
      "డ్రీమ్ వ్యాలీ రిసార్ట్ ఎలా ఉంటది What is Dream Valley Resort like\n",
      "1/1 [==============================] - 0s 36ms/step\n"
     ]
    },
    {
     "name": "stderr",
     "output_type": "stream",
     "text": [
      "127.0.0.1 - - [17/Feb/2024 16:28:58] \"GET /get?msg=డ్రీమ్%20వ్యాలీ%20రిసార్ట్%20ఎలా%20ఉంటది HTTP/1.1\" 200 -\n"
     ]
    },
    {
     "name": "stdout",
     "output_type": "stream",
     "text": [
      "టూరిస్ట్ గైడ్ ఫోన్ నెంబర్ ఉందా? Do you have a tourist guide phone number?\n",
      "1/1 [==============================] - 0s 54ms/step\n"
     ]
    },
    {
     "name": "stderr",
     "output_type": "stream",
     "text": [
      "127.0.0.1 - - [17/Feb/2024 16:29:48] \"GET /get?msg=టూరిస్ట్%20గైడ్%20ఫోన్%20నెంబర్%20ఉందా%3F HTTP/1.1\" 200 -\n"
     ]
    }
   ],
   "source": [
    "%run chatgui.py"
   ]
  },
  {
   "cell_type": "code",
   "execution_count": null,
   "id": "c5ddede9",
   "metadata": {},
   "outputs": [],
   "source": [
    "దగ్గర్లో మంచి హోటేల్స్ ఏమున్నాయి?"
   ]
  },
  {
   "cell_type": "code",
   "execution_count": null,
   "id": "289e79bf",
   "metadata": {},
   "outputs": [],
   "source": [
    "కొండాపూర్ లో మంచి రిసార్ట్ ఏమున్నాయి?"
   ]
  },
  {
   "cell_type": "code",
   "execution_count": null,
   "id": "4bc0840e",
   "metadata": {},
   "outputs": [],
   "source": [
    "డ్రీమ్ వ్యాలీ రిసార్ట్ ఎలా ఉంటది "
   ]
  },
  {
   "cell_type": "code",
   "execution_count": null,
   "id": "2e738cbd",
   "metadata": {},
   "outputs": [],
   "source": [
    "టూరిస్ట్ గైడ్ ఫోన్ నెంబర్ ఉందా?"
   ]
  }
 ],
 "metadata": {
  "kernelspec": {
   "display_name": "Python 3 (ipykernel)",
   "language": "python",
   "name": "python3"
  },
  "language_info": {
   "codemirror_mode": {
    "name": "ipython",
    "version": 3
   },
   "file_extension": ".py",
   "mimetype": "text/x-python",
   "name": "python",
   "nbconvert_exporter": "python",
   "pygments_lexer": "ipython3",
   "version": "3.9.12"
  }
 },
 "nbformat": 4,
 "nbformat_minor": 5
}
